{
 "cells": [
  {
   "cell_type": "code",
   "execution_count": 22,
   "id": "87ffa9e9",
   "metadata": {},
   "outputs": [],
   "source": [
    "lista = [1, True, None, ['MEX', [3.14, 'None', [45, '@', 10.0, range(0)], 0.001], False, 0, 34.10], range(10)]\n"
   ]
  },
  {
   "cell_type": "code",
   "execution_count": 23,
   "id": "3a2b6289",
   "metadata": {},
   "outputs": [
    {
     "data": {
      "text/plain": [
       "4"
      ]
     },
     "execution_count": 23,
     "metadata": {},
     "output_type": "execute_result"
    }
   ],
   "source": [
    "len(lista[3][1])\n"
   ]
  },
  {
   "cell_type": "code",
   "execution_count": 3,
   "id": "f352ba0c",
   "metadata": {},
   "outputs": [
    {
     "ename": "SyntaxError",
     "evalue": "invalid character in identifier (<ipython-input-3-52095a7ac15a>, line 1)",
     "output_type": "error",
     "traceback": [
      "\u001b[1;36m  File \u001b[1;32m\"<ipython-input-3-52095a7ac15a>\"\u001b[1;36m, line \u001b[1;32m1\u001b[0m\n\u001b[1;33m    df.groupby([‘dia’])[‘precio’].agg([‘min’,’max’,’median’])]\u001b[0m\n\u001b[1;37m                    ^\u001b[0m\n\u001b[1;31mSyntaxError\u001b[0m\u001b[1;31m:\u001b[0m invalid character in identifier\n"
     ]
    }
   ],
   "source": [
    "df.groupby([])[‘precio’].agg([‘min’,’max’,’median’])]"
   ]
  },
  {
   "cell_type": "code",
   "execution_count": null,
   "id": "1b4d25b9",
   "metadata": {},
   "outputs": [],
   "source": []
  }
 ],
 "metadata": {
  "kernelspec": {
   "display_name": "Python 3",
   "language": "python",
   "name": "python3"
  },
  "language_info": {
   "codemirror_mode": {
    "name": "ipython",
    "version": 3
   },
   "file_extension": ".py",
   "mimetype": "text/x-python",
   "name": "python",
   "nbconvert_exporter": "python",
   "pygments_lexer": "ipython3",
   "version": "3.8.8"
  }
 },
 "nbformat": 4,
 "nbformat_minor": 5
}
