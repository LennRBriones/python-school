{
 "cells": [
  {
   "cell_type": "code",
   "execution_count": null,
   "id": "674fd64b",
   "metadata": {},
   "outputs": [],
   "source": [
    "base = int(input())\n",
    "while base % 2 == 0: \n",
    "    print('Este numero no es impar')\n",
    "    base = int(input())\n",
    "\n",
    "\n",
    "espacio = int((base-1) / 2)\n",
    "cant_ast = 1\n",
    "\n",
    "\n",
    "while espacio >= 0:\n",
    "    linea = ''  \n",
    "    for x in range(espacio): \n",
    "        linea += ' '  \n",
    "    for x in range(cant_ast): \n",
    "        linea += '*'  \n",
    "    espacio = espacio - 1  \n",
    "    cant_ast = cant_ast + 2  \n",
    "    print(linea) \n",
    "\n"
   ]
  },
  {
   "cell_type": "code",
   "execution_count": null,
   "id": "070f93f5",
   "metadata": {},
   "outputs": [],
   "source": []
  }
 ],
 "metadata": {
  "kernelspec": {
   "display_name": "Python 3",
   "language": "python",
   "name": "python3"
  },
  "language_info": {
   "codemirror_mode": {
    "name": "ipython",
    "version": 3
   },
   "file_extension": ".py",
   "mimetype": "text/x-python",
   "name": "python",
   "nbconvert_exporter": "python",
   "pygments_lexer": "ipython3",
   "version": "3.8.8"
  }
 },
 "nbformat": 4,
 "nbformat_minor": 5
}
