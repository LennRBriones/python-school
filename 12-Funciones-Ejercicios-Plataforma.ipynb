{
 "cells": [
  {
   "cell_type": "markdown",
   "id": "b5463fe2",
   "metadata": {},
   "source": [
    "# Ejemplos de Funciones\n",
    "\n",
    "Como viste en clase, las funciones son fragmentos de código \"empaquetados\", de tal forma que puedes ejecutar el mismo código múltiples veces. La sintáxis de una función es la palabra reservada \"def\", seguida del nombre\n",
    "de la función y entre paréntesis los argumentos que recibe."
   ]
  },
  {
   "cell_type": "code",
   "execution_count": null,
   "id": "4355dc9d",
   "metadata": {},
   "outputs": [],
   "source": [
    "def imprime_numero(numero):\n",
    "    print('el número es: {}'.format(numero))"
   ]
  },
  {
   "cell_type": "code",
   "execution_count": null,
   "id": "21675af1",
   "metadata": {},
   "outputs": [],
   "source": [
    "for i in range(10):\n",
    "    imprime_numero(i)"
   ]
  },
  {
   "cell_type": "markdown",
   "id": "cbdcf353",
   "metadata": {},
   "source": [
    "Las funciones devuelven un valor mediante la palabra reservada \"return\":"
   ]
  },
  {
   "cell_type": "code",
   "execution_count": null,
   "id": "35b80a17",
   "metadata": {},
   "outputs": [],
   "source": [
    "def raiz_cuadrada(numero):\n",
    "    return numero ** 0.5"
   ]
  },
  {
   "cell_type": "code",
   "execution_count": null,
   "id": "bd6b4bf8",
   "metadata": {},
   "outputs": [],
   "source": [
    "for i in range(10, 100, 10):\n",
    "    raiz = raiz_cuadrada(i)\n",
    "    print('La raiz cuadrada de {} es {}'.format(i, raiz))"
   ]
  },
  {
   "cell_type": "markdown",
   "id": "202d83af",
   "metadata": {},
   "source": [
    "En python, si una función no devuelve nada explícitamente mediante la palabra **return**, el valor por defecto que se usa como valor de retorno es None."
   ]
  },
  {
   "cell_type": "code",
   "execution_count": null,
   "id": "70211e8f",
   "metadata": {},
   "outputs": [],
   "source": [
    "x = imprime_numero(100)\n",
    "print('El valor devuelto por la función imprime_numero es {}'.format(x))"
   ]
  },
  {
   "cell_type": "markdown",
   "id": "c75fa2b8",
   "metadata": {},
   "source": [
    "Las funciones son muy útiles para realizar tareas repetitivas, transformando los argumentos y devolviendo un valor que depende de ellos:"
   ]
  },
  {
   "cell_type": "code",
   "execution_count": null,
   "id": "569fae8f",
   "metadata": {},
   "outputs": [],
   "source": [
    "def sumatoria(lista):\n",
    "    suma = 0\n",
    "    for valor in lista:\n",
    "        suma = suma + valor\n",
    "    return suma"
   ]
  },
  {
   "cell_type": "code",
   "execution_count": null,
   "id": "b3099236",
   "metadata": {},
   "outputs": [],
   "source": [
    "print('La suma es: {}'.format(sumatoria([10, 45, 92, 7, 51, 28, 24, 61, 55, 2])))"
   ]
  },
  {
   "cell_type": "markdown",
   "id": "901a1bcf",
   "metadata": {},
   "source": [
    "Las funciones pueden recibir más de un argumento o parámetro:"
   ]
  },
  {
   "cell_type": "code",
   "execution_count": null,
   "id": "101dfc30",
   "metadata": {},
   "outputs": [],
   "source": [
    "def calcula_interes_anual(monto, tasa, meses):\n",
    "    return monto * (1 + (tasa / 12)) ** meses\n",
    "\n"
   ]
  },
  {
   "cell_type": "code",
   "execution_count": null,
   "id": "7bee322b",
   "metadata": {},
   "outputs": [],
   "source": [
    "inicial = 100\n",
    "tasa_interes = 0.3 # 30%\n",
    "plazo = 48\n",
    "total = calcula_interes_anual(inicial, tasa_interes, plazo)\n",
    "print('El total a pagar es de {}'.format(total))"
   ]
  },
  {
   "cell_type": "markdown",
   "id": "46a9fa32",
   "metadata": {},
   "source": [
    "# Nombres de argumentos"
   ]
  },
  {
   "cell_type": "markdown",
   "id": "879facd6",
   "metadata": {},
   "source": [
    "Cuando usas un argumento en una función, este argumento existe sólo durante la ejecución de la función:"
   ]
  },
  {
   "cell_type": "code",
   "execution_count": null,
   "id": "3019b078",
   "metadata": {},
   "outputs": [],
   "source": [
    "def mi_funcion():\n",
    "    numero = 24\n",
    "    print('número = {}'.format(numero))"
   ]
  },
  {
   "cell_type": "code",
   "execution_count": null,
   "id": "7fb3ddd8",
   "metadata": {},
   "outputs": [],
   "source": [
    "mi_funcion()"
   ]
  },
  {
   "cell_type": "markdown",
   "id": "a12955ea",
   "metadata": {},
   "source": [
    "La siguiente línea produce un error por que la variable número no existe fuera de mi_funcion:"
   ]
  },
  {
   "cell_type": "code",
   "execution_count": null,
   "id": "16045abe",
   "metadata": {},
   "outputs": [],
   "source": [
    "print('número = {}'.format(numero))"
   ]
  },
  {
   "cell_type": "markdown",
   "id": "7f36c734",
   "metadata": {},
   "source": [
    "Incluso si la variable existe antes de que se ejecute el método, las variables dentro de una función sólo viven durante la ejecución de la misma:"
   ]
  },
  {
   "cell_type": "code",
   "execution_count": null,
   "id": "38e63ae7",
   "metadata": {},
   "outputs": [],
   "source": [
    "fecha = '18 de diciembre de 2000'\n",
    "\n",
    "def mi_funcion(fecha):\n",
    "    print('en mi_funcion, la fecha es {}'.format(fecha))"
   ]
  },
  {
   "cell_type": "code",
   "execution_count": null,
   "id": "f8ad325b",
   "metadata": {},
   "outputs": [],
   "source": [
    "mi_funcion(24)\n",
    "print('Fuera de mi_funcion, la fecha es {}'.format(fecha))\n"
   ]
  },
  {
   "cell_type": "markdown",
   "id": "9f88385e",
   "metadata": {},
   "source": [
    "Si una función cambia el valor de una variable, el nuevo valor sólo vive mientras se ejecuta la función. A esto se le llama **paso de argumentos por VALOR**"
   ]
  },
  {
   "cell_type": "code",
   "execution_count": null,
   "id": "d2e51076",
   "metadata": {},
   "outputs": [],
   "source": [
    "def mi_funcion(x, y):\n",
    "    x = 1 / y\n",
    "    y = x * 3.14159\n",
    "    print('En mi_funcion, x = {}, y = {}'.format(x, y))"
   ]
  },
  {
   "cell_type": "code",
   "execution_count": null,
   "id": "d67535ae",
   "metadata": {},
   "outputs": [],
   "source": [
    "x = 10\n",
    "y = 20\n",
    "print('Antes de llamar a mi_funcion, x = {}, y = {}'.format(x, y))"
   ]
  },
  {
   "cell_type": "code",
   "execution_count": null,
   "id": "85da36e6",
   "metadata": {},
   "outputs": [],
   "source": [
    "mi_funcion(x, y)"
   ]
  },
  {
   "cell_type": "code",
   "execution_count": null,
   "id": "003276fd",
   "metadata": {},
   "outputs": [],
   "source": [
    "print('Después de llamar a mi_funcion, x = {}, y = {}'.format(x, y))"
   ]
  },
  {
   "cell_type": "markdown",
   "id": "8dd25be6",
   "metadata": {},
   "source": [
    "Puedes indicar el valor de los argumentos si usas su nombre durante la llamada de la función:"
   ]
  },
  {
   "cell_type": "code",
   "execution_count": null,
   "id": "667f1400",
   "metadata": {},
   "outputs": [],
   "source": [
    "def calcula_pendiente(x1, x2, y1, y2):\n",
    "    return (y2-y1) / (x2-x1)"
   ]
  },
  {
   "cell_type": "code",
   "execution_count": null,
   "id": "5b2eb218",
   "metadata": {},
   "outputs": [],
   "source": [
    "pendiente1 = calcula_pendiente(5, 6, 2, 10)\n",
    "print('pendiente1 = {}'.format(pendiente1))"
   ]
  },
  {
   "cell_type": "code",
   "execution_count": null,
   "id": "8ef56983",
   "metadata": {},
   "outputs": [],
   "source": [
    "pendiente2 = calcula_pendiente(y2=5, y1=6, x2=2, x1=10)\n",
    "print('pendiente2 = {}'.format(pendiente2))"
   ]
  },
  {
   "cell_type": "markdown",
   "id": "32b24817",
   "metadata": {},
   "source": [
    "No es necesario que nombres todos los argumentos, el orden en el que están definidos en el método es el órden en el que se consideran:"
   ]
  },
  {
   "cell_type": "code",
   "execution_count": null,
   "id": "43107ff2",
   "metadata": {},
   "outputs": [],
   "source": [
    "pendiente3 = calcula_pendiente(4, 0, y2=10, y1=2)\n",
    "print('pendiente3 = {}'.format(pendiente3))"
   ]
  },
  {
   "cell_type": "markdown",
   "id": "63e9b10c",
   "metadata": {},
   "source": [
    "Pero ten cuidado, si usas nombres de argumentos que ya se usaron por defecto tendrás un error en el programa:"
   ]
  },
  {
   "cell_type": "code",
   "execution_count": null,
   "id": "49ffd711",
   "metadata": {},
   "outputs": [],
   "source": [
    "pendiente4 = calcula_pendiente(4, 0, x1=10, y1=2)\n",
    "print('pendiente4 = {}'.format(pendiente4))"
   ]
  },
  {
   "cell_type": "markdown",
   "id": "f5ec7dd6",
   "metadata": {},
   "source": [
    "¿por qué sucede el error en la línea anterior?"
   ]
  },
  {
   "cell_type": "markdown",
   "id": "c99b8fe0",
   "metadata": {},
   "source": [
    "# Argumentos opcionales"
   ]
  },
  {
   "cell_type": "markdown",
   "id": "f138cbb9",
   "metadata": {},
   "source": [
    "Los argumentos opcionales son útiles cuando una función puede asumir el valor de un argumento por defecto, a menos de que explícitamente se indique cuando se llama a la función:"
   ]
  },
  {
   "cell_type": "code",
   "execution_count": null,
   "id": "97017d7c",
   "metadata": {},
   "outputs": [],
   "source": [
    "def saludo(nombre, mensaje='Hola'):\n",
    "    print('{} {}!'.format(mensaje, nombre))"
   ]
  },
  {
   "cell_type": "code",
   "execution_count": null,
   "id": "d3b2a0d2",
   "metadata": {},
   "outputs": [],
   "source": [
    "saludo('María')"
   ]
  },
  {
   "cell_type": "code",
   "execution_count": null,
   "id": "131efefd",
   "metadata": {},
   "outputs": [],
   "source": [
    "saludo('Mario', 'Buenas tardes')"
   ]
  },
  {
   "cell_type": "markdown",
   "id": "af842ca3",
   "metadata": {},
   "source": [
    "Puedes usar nombres en los argumentos como cualquier otra función:"
   ]
  },
  {
   "cell_type": "code",
   "execution_count": null,
   "id": "ffd79c09",
   "metadata": {},
   "outputs": [],
   "source": [
    "saludo(mensaje='Hasta luego', nombre='Juan')"
   ]
  },
  {
   "cell_type": "markdown",
   "id": "0b817610",
   "metadata": {},
   "source": [
    "Son también útiles para modificar el comportamiento de una función:"
   ]
  },
  {
   "cell_type": "code",
   "execution_count": null,
   "id": "49e8f6ea",
   "metadata": {},
   "outputs": [],
   "source": [
    "def convierte_metros(cantidad, unidad='pies'):\n",
    "    if unidad == 'pies':\n",
    "        return cantidad * 0.3048\n",
    "    elif unidad == 'yardas':\n",
    "        return cantidad * 0.9144\n",
    "    elif unidad == 'pulgadas':\n",
    "        return cantidad * 39.3701\n",
    "    else:\n",
    "        return None # unidad no encontrada\n"
   ]
  },
  {
   "cell_type": "code",
   "execution_count": null,
   "id": "63952608",
   "metadata": {},
   "outputs": [],
   "source": [
    "print('10 metros son {} pies'.format(convierte_metros(10)))"
   ]
  },
  {
   "cell_type": "code",
   "execution_count": null,
   "id": "2ed94312",
   "metadata": {},
   "outputs": [],
   "source": [
    "print('10 metros son {} yardas'.format(convierte_metros(10, unidad='yardas')))"
   ]
  },
  {
   "cell_type": "code",
   "execution_count": null,
   "id": "409140a9",
   "metadata": {},
   "outputs": [],
   "source": [
    "print('10 metros son {} pulgadas'.format(convierte_metros(10, unidad='pulgadas')))"
   ]
  },
  {
   "cell_type": "markdown",
   "id": "9d65430b",
   "metadata": {},
   "source": [
    "Puedes usar más de un argumento opcional en las funciones:"
   ]
  },
  {
   "cell_type": "code",
   "execution_count": null,
   "id": "a5c6c42b",
   "metadata": {},
   "outputs": [],
   "source": [
    "def registra_usuario(nombre, apellidos, es_administrador=False, activo=True):\n",
    "    if es_administrador:\n",
    "        print('Registrando a {} {} como administrador'.format(nombre, apellidos))\n",
    "    if not activo:\n",
    "        print('{} {} no está activo en el sistema'.format(nombre, apellidos))"
   ]
  },
  {
   "cell_type": "code",
   "execution_count": null,
   "id": "3d9dbd9c",
   "metadata": {},
   "outputs": [],
   "source": [
    "registra_usuario('Roberto', 'Pérez')"
   ]
  },
  {
   "cell_type": "code",
   "execution_count": null,
   "id": "758c2382",
   "metadata": {},
   "outputs": [],
   "source": [
    "registra_usuario('Gina', 'López', True, False)"
   ]
  },
  {
   "cell_type": "code",
   "execution_count": null,
   "id": "6c2f7bcd",
   "metadata": {},
   "outputs": [],
   "source": [
    "registra_usuario('Mónica', 'Sánchez', activo=False)"
   ]
  },
  {
   "cell_type": "markdown",
   "id": "db631665",
   "metadata": {},
   "source": [
    "# Argumentos varíadicos"
   ]
  },
  {
   "cell_type": "markdown",
   "id": "05a06d44",
   "metadata": {},
   "source": [
    "Los argumentos son aún más flexibles. Puedes declarar una función que recibeun número ilimitado de argumentos al nombrar un argumento con el símbolo * antecediendo al nombre de la variable. El intérprete de Python empaqueta todos los argumentos adicionales en una tupla, que puedes usar a través de esta variable:"
   ]
  },
  {
   "cell_type": "code",
   "execution_count": null,
   "id": "f1a17784",
   "metadata": {},
   "outputs": [],
   "source": [
    "def suma(*numeros):\n",
    "    total = 0\n",
    "    for x in numeros:\n",
    "        total += x\n",
    "    return total"
   ]
  },
  {
   "cell_type": "code",
   "execution_count": null,
   "id": "55dd6fce",
   "metadata": {},
   "outputs": [],
   "source": [
    "print('suma: {}'.format(suma(10, 2, 4, 8)))"
   ]
  },
  {
   "cell_type": "code",
   "execution_count": null,
   "id": "2e95faeb",
   "metadata": {},
   "outputs": [],
   "source": [
    "print('suma: {}'.format(suma()))"
   ]
  },
  {
   "cell_type": "code",
   "execution_count": null,
   "id": "ede9dbe0",
   "metadata": {},
   "outputs": [],
   "source": [
    "print('suma: {}'.format(suma(0, -1, -2, -3, -4, -5, -6, -7, -8, -9)))"
   ]
  },
  {
   "cell_type": "markdown",
   "id": "09be98e0",
   "metadata": {},
   "source": [
    "Estos argumentos los puedes combinar con argumentos normales y con argumentos nombrados:"
   ]
  },
  {
   "cell_type": "code",
   "execution_count": null,
   "id": "24ed3350",
   "metadata": {},
   "outputs": [],
   "source": [
    "def funcion(x, y, *opciones):\n",
    "    print('x = {}, y = {}, opciones = {}'.format(x, y, opciones))"
   ]
  },
  {
   "cell_type": "code",
   "execution_count": null,
   "id": "cfb34bab",
   "metadata": {},
   "outputs": [],
   "source": [
    "funcion(10, 'Rojo', True, False, False, True, False, False, False, True)"
   ]
  },
  {
   "cell_type": "code",
   "execution_count": null,
   "id": "6a449bb2",
   "metadata": {},
   "outputs": [],
   "source": [
    "funcion(-5, 'Azul')"
   ]
  },
  {
   "cell_type": "markdown",
   "id": "c3e188c7",
   "metadata": {},
   "source": [
    "Sin embargo, estos argumentos no los puedes combinar con argumentos nombrados:"
   ]
  },
  {
   "cell_type": "code",
   "execution_count": null,
   "id": "8e81b0e3",
   "metadata": {},
   "outputs": [],
   "source": [
    "funcion(x=0, y='Verde', 0, 1, 2, 3)"
   ]
  },
  {
   "cell_type": "markdown",
   "id": "b0e70364",
   "metadata": {},
   "source": [
    "¿por qué crees que sucede este error?"
   ]
  },
  {
   "cell_type": "markdown",
   "id": "d7f9a68d",
   "metadata": {},
   "source": [
    "Además, no puedes usar más de un argumento variable por función:"
   ]
  },
  {
   "cell_type": "code",
   "execution_count": null,
   "id": "83e1ae31",
   "metadata": {},
   "outputs": [],
   "source": [
    "def imposible(*listaA, *listaB):\n",
    "    print('Ups')"
   ]
  },
  {
   "cell_type": "markdown",
   "id": "dcf93c9a",
   "metadata": {},
   "source": [
    "Reflexiona, si esto fuera posible, ¿dónde termina listaA y dónde comienza listaB?"
   ]
  },
  {
   "cell_type": "code",
   "execution_count": null,
   "id": "76749701",
   "metadata": {},
   "outputs": [],
   "source": [
    "imposible(1, 2, 'A', False)"
   ]
  },
  {
   "cell_type": "markdown",
   "id": "b263365c",
   "metadata": {},
   "source": [
    "Podemos hacer lo mismo con argumentos nombrados, pero las variables que reciben múltiples argumentos nombrados se requiere de dos asteriscos antes del nombre de la variable. Y esta variable es un diccionario donde las llaves son los nombres de los argumentos:"
   ]
  },
  {
   "cell_type": "code",
   "execution_count": null,
   "id": "5401fefe",
   "metadata": {},
   "outputs": [],
   "source": [
    "def registra_usuario(id_usuario, **datos):\n",
    "    print('Registrando usuario con ID {}'.format(id_usuario))\n",
    "    for key, valor in datos.items():\n",
    "        print('  |- {}: {}'.format(key, valor))"
   ]
  },
  {
   "cell_type": "code",
   "execution_count": null,
   "id": "be75e55f",
   "metadata": {},
   "outputs": [],
   "source": [
    "registra_usuario(1, nombre='Gabriela', apellidos='Rojo', departamento='contabilidad')"
   ]
  },
  {
   "cell_type": "code",
   "execution_count": null,
   "id": "7c7de141",
   "metadata": {},
   "outputs": [],
   "source": [
    "registra_usuario(2, nombre='Rodrigo', apellidos='Puente', sueldo=1000)"
   ]
  },
  {
   "cell_type": "code",
   "execution_count": null,
   "id": "0c3e0111",
   "metadata": {},
   "outputs": [],
   "source": [
    "registra_usuario(3, puesto='Director', fecha_ingreso='2015-06-15', sueldo=5000)"
   ]
  },
  {
   "cell_type": "markdown",
   "id": "baf39158",
   "metadata": {},
   "source": [
    "¿qué pasa si no indicas el argumento id_usuario?"
   ]
  },
  {
   "cell_type": "markdown",
   "id": "7139ada9",
   "metadata": {},
   "source": [
    "Es muy común encontrar en bibliotecas de python métodos definidos de la siguiente forma:"
   ]
  },
  {
   "cell_type": "code",
   "execution_count": null,
   "id": "59761fbf",
   "metadata": {},
   "outputs": [],
   "source": [
    "def funcion_especial(*args, **kwargs):\n",
    "    print('Argumentos posicionales: {}'.format(args))\n",
    "    print('Argumentos nombrados: {}'.format(kwargs))"
   ]
  },
  {
   "cell_type": "markdown",
   "id": "7a82d9b1",
   "metadata": {},
   "source": [
    "De esta forma la función puede recibir cualquier cantidad y tipo de argumentos:"
   ]
  },
  {
   "cell_type": "code",
   "execution_count": null,
   "id": "424f6fe3",
   "metadata": {},
   "outputs": [],
   "source": [
    "funcion_especial()"
   ]
  },
  {
   "cell_type": "code",
   "execution_count": null,
   "id": "8d621f59",
   "metadata": {},
   "outputs": [],
   "source": [
    "funcion_especial(cuatro=4, z='zeta')"
   ]
  },
  {
   "cell_type": "code",
   "execution_count": null,
   "id": "0c546992",
   "metadata": {},
   "outputs": [],
   "source": [
    "funcion_especial(10, 100, 0)"
   ]
  },
  {
   "cell_type": "code",
   "execution_count": null,
   "id": "4ab1892b",
   "metadata": {},
   "outputs": [],
   "source": [
    "funcion_especial(0, debug=False)"
   ]
  },
  {
   "cell_type": "markdown",
   "id": "b66a8da4",
   "metadata": {},
   "source": [
    "Así puedes crear funciones sumamente flexibles. Depende de la implementación de la función procesar todos los argumentos tanto posicionales como nombrados."
   ]
  }
 ],
 "metadata": {
  "kernelspec": {
   "display_name": "Python 3",
   "language": "python",
   "name": "python3"
  },
  "language_info": {
   "codemirror_mode": {
    "name": "ipython",
    "version": 3
   },
   "file_extension": ".py",
   "mimetype": "text/x-python",
   "name": "python",
   "nbconvert_exporter": "python",
   "pygments_lexer": "ipython3",
   "version": "3.8.8"
  }
 },
 "nbformat": 4,
 "nbformat_minor": 5
}
