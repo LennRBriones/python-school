{
 "cells": [
  {
   "cell_type": "code",
   "execution_count": 1,
   "id": "2c3b76dc",
   "metadata": {},
   "outputs": [
    {
     "name": "stdout",
     "output_type": "stream",
     "text": [
      "dia: Lunes edad: 20 peso: 48.62\n"
     ]
    }
   ],
   "source": [
    "dia = 'Lunes'\n",
    "edad = 20\n",
    "peso = 48.62\n",
    "\n",
    "# Descomenta la siguiente línea y ejecuta el programa.\n",
    "print('dia:', dia, 'edad:', edad, 'peso:', peso)\n"
   ]
  },
  {
   "cell_type": "code",
   "execution_count": 2,
   "id": "560fe354",
   "metadata": {},
   "outputs": [
    {
     "name": "stdout",
     "output_type": "stream",
     "text": [
      "el tipo de la variable \"dia\" es <class 'str'>\n",
      "el tipo de la variable \"edad\" es <class 'int'>\n",
      "el tipo de la variable \"peso\" es <class 'float'>\n"
     ]
    }
   ],
   "source": [
    "print('el tipo de la variable \"dia\" es', type(dia))\n",
    "print('el tipo de la variable \"edad\" es', type(edad))\n",
    "print('el tipo de la variable \"peso\" es', type(peso))"
   ]
  },
  {
   "cell_type": "code",
   "execution_count": 3,
   "id": "a3b5ecd8",
   "metadata": {},
   "outputs": [
    {
     "ename": "NameError",
     "evalue": "name 'saldo' is not defined",
     "output_type": "error",
     "traceback": [
      "\u001b[1;31m---------------------------------------------------------------------------\u001b[0m",
      "\u001b[1;31mNameError\u001b[0m                                 Traceback (most recent call last)",
      "\u001b[1;32m<ipython-input-3-0bfa4e9efbc4>\u001b[0m in \u001b[0;36m<module>\u001b[1;34m\u001b[0m\n\u001b[1;32m----> 1\u001b[1;33m \u001b[0mprint\u001b[0m\u001b[1;33m(\u001b[0m\u001b[0msaldo\u001b[0m \u001b[1;33m==\u001b[0m \u001b[1;36m0\u001b[0m\u001b[1;33m)\u001b[0m\u001b[1;33m\u001b[0m\u001b[1;33m\u001b[0m\u001b[0m\n\u001b[0m",
      "\u001b[1;31mNameError\u001b[0m: name 'saldo' is not defined"
     ]
    }
   ],
   "source": [
    "print(saldo == 0)"
   ]
  },
  {
   "cell_type": "code",
   "execution_count": 4,
   "id": "de94a5b2",
   "metadata": {},
   "outputs": [
    {
     "ename": "SyntaxError",
     "evalue": "Missing parentheses in call to 'print'. Did you mean print(saldo == 0)? (<ipython-input-4-23730151436b>, line 1)",
     "output_type": "error",
     "traceback": [
      "\u001b[1;36m  File \u001b[1;32m\"<ipython-input-4-23730151436b>\"\u001b[1;36m, line \u001b[1;32m1\u001b[0m\n\u001b[1;33m    print saldo == 0\u001b[0m\n\u001b[1;37m          ^\u001b[0m\n\u001b[1;31mSyntaxError\u001b[0m\u001b[1;31m:\u001b[0m Missing parentheses in call to 'print'. Did you mean print(saldo == 0)?\n"
     ]
    }
   ],
   "source": [
    "print saldo == 0"
   ]
  },
  {
   "cell_type": "code",
   "execution_count": 6,
   "id": "fa8f28c7",
   "metadata": {},
   "outputs": [
    {
     "name": "stdout",
     "output_type": "stream",
     "text": [
      "False\n"
     ]
    }
   ],
   "source": [
    "saldo = 100\n",
    "print(saldo == 0)"
   ]
  },
  {
   "cell_type": "code",
   "execution_count": 7,
   "id": "fe1a8803",
   "metadata": {},
   "outputs": [
    {
     "name": "stdout",
     "output_type": "stream",
     "text": [
      "El saldo es: 25.0\n"
     ]
    }
   ],
   "source": [
    "saldo /= 4\n",
    "print('El saldo es:', saldo)"
   ]
  },
  {
   "cell_type": "code",
   "execution_count": 11,
   "id": "12dd20fb",
   "metadata": {},
   "outputs": [
    {
     "name": "stdout",
     "output_type": "stream",
     "text": [
      "El area es: 78.53975\n"
     ]
    }
   ],
   "source": [
    "PI= 3.14159\n",
    "radio= 5\n",
    "area = PI * (radio*radio)\n",
    "print('El area es:', area)"
   ]
  },
  {
   "cell_type": "code",
   "execution_count": 16,
   "id": "4ad2177c",
   "metadata": {},
   "outputs": [
    {
     "name": "stdout",
     "output_type": "stream",
     "text": [
      "El volumen es: 523.5983333333332\n"
     ]
    }
   ],
   "source": [
    "PI= 3.14159\n",
    "radio= 5\n",
    "volumen = (4/3)* PI * (radio * radio* radio)\n",
    "print('El volumen es:', volumen)"
   ]
  },
  {
   "cell_type": "code",
   "execution_count": 17,
   "id": "d762f431",
   "metadata": {},
   "outputs": [
    {
     "name": "stdout",
     "output_type": "stream",
     "text": [
      "El volumen es: 523.5983333333332\n"
     ]
    }
   ],
   "source": [
    "PI= 3.14159\n",
    "radio= 5\n",
    "volumen = (4/3)* PI * (radio **3)\n",
    "print('El volumen es:', volumen)"
   ]
  },
  {
   "cell_type": "code",
   "execution_count": 21,
   "id": "b77e6731",
   "metadata": {},
   "outputs": [
    {
     "name": "stdout",
     "output_type": "stream",
     "text": [
      "número positivo\n",
      "número mayor a 10\n",
      "número mayor a 20\n",
      "Esto se ejecuta siempre que el número sea mayor a 10\n",
      "Numero = 100\n"
     ]
    }
   ],
   "source": [
    "numero = 100 # Este es el nivel \"cero\". No hay espacios antes de la declaración\n",
    "if numero > 0:\n",
    "    print('número positivo') # Nivel 1. Le indica al intérprete que esta línea\n",
    "                             # de código es el bloque de la condición IF\n",
    "    if numero > 10:          # Este IF sigue dentro del nivel 1.\n",
    "        print('número mayor a 10') # Segundo nivel de código. Esta línea es\n",
    "                                   # el bloque de código del segundo if\n",
    "        if numero > 20:            # Seguimos en el segundo nivel de código\n",
    "            print('número mayor a 20') # Este es bloque de tercer nivel\n",
    "        print('Esto se ejecuta siempre que el número sea mayor a 10')\n",
    "        # La línea anterior rgresa al segundo nivel de código\n",
    "   # Y esta línea regresa al primer nivel\n",
    "print('Numero =', numero)"
   ]
  },
  {
   "cell_type": "code",
   "execution_count": null,
   "id": "7f16c24a",
   "metadata": {},
   "outputs": [],
   "source": []
  }
 ],
 "metadata": {
  "kernelspec": {
   "display_name": "Python 3",
   "language": "python",
   "name": "python3"
  },
  "language_info": {
   "codemirror_mode": {
    "name": "ipython",
    "version": 3
   },
   "file_extension": ".py",
   "mimetype": "text/x-python",
   "name": "python",
   "nbconvert_exporter": "python",
   "pygments_lexer": "ipython3",
   "version": "3.8.8"
  }
 },
 "nbformat": 4,
 "nbformat_minor": 5
}
