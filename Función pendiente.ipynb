{
 "cells": [
  {
   "cell_type": "code",
   "execution_count": 2,
   "id": "265dea81",
   "metadata": {},
   "outputs": [],
   "source": [
    "def mi_funcion(x, *y, **z): print(x, y, z)\n"
   ]
  },
  {
   "cell_type": "code",
   "execution_count": 5,
   "id": "328416b1",
   "metadata": {},
   "outputs": [
    {
     "ename": "IndentationError",
     "evalue": "unexpected indent (<ipython-input-5-8bffdd1865fb>, line 2)",
     "output_type": "error",
     "traceback": [
      "\u001b[1;36m  File \u001b[1;32m\"<ipython-input-5-8bffdd1865fb>\"\u001b[1;36m, line \u001b[1;32m2\u001b[0m\n\u001b[1;33m    mi_funcion(y=10, x=20, z=30)\u001b[0m\n\u001b[1;37m    ^\u001b[0m\n\u001b[1;31mIndentationError\u001b[0m\u001b[1;31m:\u001b[0m unexpected indent\n"
     ]
    }
   ],
   "source": [
    "def mi_funcion(x, *y, **z): print(x, y, z)\n",
    "  mi_funcion(y=10, x=20, z=30)"
   ]
  },
  {
   "cell_type": "code",
   "execution_count": 4,
   "id": "5a1b2d27",
   "metadata": {},
   "outputs": [
    {
     "name": "stdout",
     "output_type": "stream",
     "text": [
      "20 () {'y': 10, 'z': 30}\n"
     ]
    }
   ],
   "source": [
    "mi_funcion(y=10, x=20, z=30)\n"
   ]
  },
  {
   "cell_type": "code",
   "execution_count": null,
   "id": "eab5acea",
   "metadata": {},
   "outputs": [],
   "source": []
  }
 ],
 "metadata": {
  "kernelspec": {
   "display_name": "Python 3",
   "language": "python",
   "name": "python3"
  },
  "language_info": {
   "codemirror_mode": {
    "name": "ipython",
    "version": 3
   },
   "file_extension": ".py",
   "mimetype": "text/x-python",
   "name": "python",
   "nbconvert_exporter": "python",
   "pygments_lexer": "ipython3",
   "version": "3.8.8"
  }
 },
 "nbformat": 4,
 "nbformat_minor": 5
}
