{
 "cells": [
  {
   "cell_type": "markdown",
   "id": "c981f97c",
   "metadata": {},
   "source": [
    "### Aquí podemos ver cómo es la nomenclatura de una función para imprimir un mensaje"
   ]
  },
  {
   "cell_type": "code",
   "execution_count": null,
   "id": "297935d8",
   "metadata": {},
   "outputs": [],
   "source": [
    "def Hey_hola():\n",
    "    print('Hey hola prro')\n",
    "    \n",
    "Hey_hola();\n"
   ]
  },
  {
   "cell_type": "markdown",
   "id": "c4725987",
   "metadata": {},
   "source": [
    "### Ahora en la función declararemos una variable\n"
   ]
  },
  {
   "cell_type": "code",
   "execution_count": null,
   "id": "8178398f",
   "metadata": {},
   "outputs": [],
   "source": [
    "\n",
    "def greetings(nombre):\n",
    "    print(f'Hola que tal {nombre}')\n",
    "    \n",
    "greetings('Lenny')"
   ]
  },
  {
   "cell_type": "markdown",
   "id": "dadc62d7",
   "metadata": {},
   "source": [
    "## Usando return\n",
    "\n",
    "Hasta ahora solo hemos visto el uso de print (), pero si realmente queremos guardar la variable resultante, necesitamos usar la palabra clave return.\n",
    "\n",
    "Veamos un ejemplo que usa una declaración return. return permite que una función devuelva un resultado que luego puede almacenarse como una variable o usarse de la manera que desee el usuario."
   ]
  },
  {
   "cell_type": "code",
   "execution_count": 4,
   "id": "5201d6c2",
   "metadata": {},
   "outputs": [
    {
     "data": {
      "text/plain": [
       "15"
      ]
     },
     "execution_count": 4,
     "metadata": {},
     "output_type": "execute_result"
    }
   ],
   "source": [
    "def suma(num1,num2):\n",
    "    return num1 + num2\n",
    "\n",
    "suma(10,5)"
   ]
  },
  {
   "cell_type": "code",
   "execution_count": 8,
   "id": "2a636aa2",
   "metadata": {},
   "outputs": [],
   "source": [
    "#De igual manera lo podemos gurdar como variable\n",
    "resultado = suma(10,5)\n",
    "\n"
   ]
  },
  {
   "cell_type": "code",
   "execution_count": 9,
   "id": "ba65084c",
   "metadata": {},
   "outputs": [
    {
     "name": "stdout",
     "output_type": "stream",
     "text": [
      "15\n"
     ]
    }
   ],
   "source": [
    "print(resultado)"
   ]
  },
  {
   "cell_type": "markdown",
   "id": "a0c62c38",
   "metadata": {},
   "source": [
    "¿Que sucede si pasamos como argumento 2 cadenas string?"
   ]
  },
  {
   "cell_type": "code",
   "execution_count": 10,
   "id": "a99a6099",
   "metadata": {},
   "outputs": [
    {
     "data": {
      "text/plain": [
       "'unodos'"
      ]
     },
     "execution_count": 10,
     "metadata": {},
     "output_type": "execute_result"
    }
   ],
   "source": [
    "suma('uno','dos')"
   ]
  },
  {
   "cell_type": "markdown",
   "id": "5ab7cf5e",
   "metadata": {},
   "source": [
    "## Una Pregunta muy común: \"¿Cuál es la diferencia entre *return* y *print*?\"\n",
    "\n",
    "**La palabra clave return le permite guardar el resultado de la salida de una función como una variable. La función print () simplemente le muestra la salida, pero no la guarda para uso futuro. Exploremos esto con más detalle.**"
   ]
  },
  {
   "cell_type": "code",
   "execution_count": 20,
   "id": "082b87c4",
   "metadata": {},
   "outputs": [],
   "source": [
    "def print_result(a,b):\n",
    "    print(a+b)\n"
   ]
  },
  {
   "cell_type": "code",
   "execution_count": 18,
   "id": "c4ad8c63",
   "metadata": {},
   "outputs": [],
   "source": [
    "def return_result(a,b):\n",
    "    return a+b"
   ]
  },
  {
   "cell_type": "code",
   "execution_count": 19,
   "id": "af15e285",
   "metadata": {},
   "outputs": [
    {
     "name": "stdout",
     "output_type": "stream",
     "text": [
      "15\n"
     ]
    }
   ],
   "source": [
    "print_result(10,5)"
   ]
  },
  {
   "cell_type": "markdown",
   "id": "08054bc3",
   "metadata": {},
   "source": [
    "#### ¿Pero qué sucede si realmente queremos guardar este resultado para su uso posterior?"
   ]
  },
  {
   "cell_type": "code",
   "execution_count": 21,
   "id": "c1babd9b",
   "metadata": {},
   "outputs": [
    {
     "name": "stdout",
     "output_type": "stream",
     "text": [
      "40\n"
     ]
    }
   ],
   "source": [
    "my_result = print_result(20,20)"
   ]
  },
  {
   "cell_type": "code",
   "execution_count": 22,
   "id": "b9751bc8",
   "metadata": {},
   "outputs": [],
   "source": [
    "my_result"
   ]
  },
  {
   "cell_type": "code",
   "execution_count": 23,
   "id": "7c14612b",
   "metadata": {},
   "outputs": [
    {
     "data": {
      "text/plain": [
       "NoneType"
      ]
     },
     "execution_count": 23,
     "metadata": {},
     "output_type": "execute_result"
    }
   ],
   "source": [
    "type(my_result)"
   ]
  },
  {
   "cell_type": "markdown",
   "id": "6df5906d",
   "metadata": {},
   "source": [
    "Aquí podemos apreciar como se usa como variable, el anterior con print no imprime nada puesto que estaba como print, pero la que es con return si se guarda el valor y nos lo imprime"
   ]
  },
  {
   "cell_type": "code",
   "execution_count": 24,
   "id": "55f8e431",
   "metadata": {},
   "outputs": [],
   "source": [
    "my_result = return_result(20,20)"
   ]
  },
  {
   "cell_type": "code",
   "execution_count": 25,
   "id": "f1af417c",
   "metadata": {},
   "outputs": [
    {
     "data": {
      "text/plain": [
       "40"
      ]
     },
     "execution_count": 25,
     "metadata": {},
     "output_type": "execute_result"
    }
   ],
   "source": [
    "my_result"
   ]
  },
  {
   "cell_type": "code",
   "execution_count": 26,
   "id": "26c32020",
   "metadata": {},
   "outputs": [
    {
     "data": {
      "text/plain": [
       "80"
      ]
     },
     "execution_count": 26,
     "metadata": {},
     "output_type": "execute_result"
    }
   ],
   "source": [
    "my_result + my_result"
   ]
  },
  {
   "cell_type": "markdown",
   "id": "80c71556",
   "metadata": {},
   "source": [
    "# Adición de lógica a las operaciones de funciones internas\n"
   ]
  },
  {
   "cell_type": "markdown",
   "id": "c4c82b99",
   "metadata": {},
   "source": [
    "### Comprobar si un número es par\n",
    "\n",
    "Recuerda que el operador mod (%) devuelve el resto después de la división, si un numero es par, entonces mod 2 (%2) debe ser == a cero. "
   ]
  },
  {
   "cell_type": "code",
   "execution_count": 27,
   "id": "9d0e7b24",
   "metadata": {},
   "outputs": [
    {
     "data": {
      "text/plain": [
       "0"
      ]
     },
     "execution_count": 27,
     "metadata": {},
     "output_type": "execute_result"
    }
   ],
   "source": [
    "2 % 2"
   ]
  },
  {
   "cell_type": "code",
   "execution_count": 28,
   "id": "b5f7b8a0",
   "metadata": {},
   "outputs": [
    {
     "data": {
      "text/plain": [
       "0"
      ]
     },
     "execution_count": 28,
     "metadata": {},
     "output_type": "execute_result"
    }
   ],
   "source": [
    "20 % 2"
   ]
  },
  {
   "cell_type": "code",
   "execution_count": 29,
   "id": "0c49b0ad",
   "metadata": {},
   "outputs": [
    {
     "data": {
      "text/plain": [
       "1"
      ]
     },
     "execution_count": 29,
     "metadata": {},
     "output_type": "execute_result"
    }
   ],
   "source": [
    "21 % 2"
   ]
  },
  {
   "cell_type": "code",
   "execution_count": 30,
   "id": "c5397a79",
   "metadata": {},
   "outputs": [
    {
     "data": {
      "text/plain": [
       "True"
      ]
     },
     "execution_count": 30,
     "metadata": {},
     "output_type": "execute_result"
    }
   ],
   "source": [
    "20 % 2 == 0"
   ]
  },
  {
   "cell_type": "code",
   "execution_count": 31,
   "id": "eaf126eb",
   "metadata": {},
   "outputs": [
    {
     "data": {
      "text/plain": [
       "False"
      ]
     },
     "execution_count": 31,
     "metadata": {},
     "output_type": "execute_result"
    }
   ],
   "source": [
    "21 % 2 == 0"
   ]
  },
  {
   "cell_type": "markdown",
   "id": "583c3f75",
   "metadata": {},
   "source": [
    "**Podemos usar esto para crear una función. Observa cómo simplemente devolvemos el valor booleano**"
   ]
  },
  {
   "cell_type": "code",
   "execution_count": 32,
   "id": "75528a5f",
   "metadata": {},
   "outputs": [],
   "source": [
    "def even_check(number):\n",
    "    return number % 2 == 0"
   ]
  },
  {
   "cell_type": "code",
   "execution_count": 33,
   "id": "e09497ff",
   "metadata": {},
   "outputs": [
    {
     "data": {
      "text/plain": [
       "True"
      ]
     },
     "execution_count": 33,
     "metadata": {},
     "output_type": "execute_result"
    }
   ],
   "source": [
    "even_check(20)"
   ]
  },
  {
   "cell_type": "code",
   "execution_count": 34,
   "id": "3a08f996",
   "metadata": {},
   "outputs": [
    {
     "data": {
      "text/plain": [
       "False"
      ]
     },
     "execution_count": 34,
     "metadata": {},
     "output_type": "execute_result"
    }
   ],
   "source": [
    "even_check(21)\n"
   ]
  },
  {
   "cell_type": "markdown",
   "id": "b424102b",
   "metadata": {},
   "source": [
    "### Comprobar si algún numero en una lista es par"
   ]
  },
  {
   "cell_type": "markdown",
   "id": "2f47f531",
   "metadata": {},
   "source": [
    "Devolvemos un valor booleano que indique si cualquier número en una lista es par. Observe aquí como return sale del bucle y sale de la función"
   ]
  },
  {
   "cell_type": "code",
   "execution_count": 3,
   "id": "6f99817b",
   "metadata": {},
   "outputs": [],
   "source": [
    "def check_even_list(num_list):\n",
    "#Revisa cada número\n",
    "    for number in num_list:\n",
    "    #Una vez que obtenemos un \"acierto\" en un número par, devolvemos true\n",
    "        if number % 2 == 0:\n",
    "            return True\n",
    "    #De lo contrario no hacemos nada\n",
    "        else:\n",
    "            pass"
   ]
  },
  {
   "cell_type": "markdown",
   "id": "8a58d97c",
   "metadata": {},
   "source": [
    "### Pero esto solo nos estará devolviendo un True si es hay un par y nada si sale un impar"
   ]
  },
  {
   "cell_type": "code",
   "execution_count": 5,
   "id": "d4518eee",
   "metadata": {},
   "outputs": [
    {
     "data": {
      "text/plain": [
       "True"
      ]
     },
     "execution_count": 5,
     "metadata": {},
     "output_type": "execute_result"
    }
   ],
   "source": [
    "check_even_list([1,2,3])"
   ]
  },
  {
   "cell_type": "code",
   "execution_count": 6,
   "id": "2d675146",
   "metadata": {},
   "outputs": [],
   "source": [
    "check_even_list([1,1,1])"
   ]
  },
  {
   "cell_type": "markdown",
   "id": "6aa75da8",
   "metadata": {},
   "source": [
    "### Se recomienda no dejarlo así ya que es un error común el dejar que no muestre nada al correr"
   ]
  },
  {
   "cell_type": "code",
   "execution_count": null,
   "id": "c7a33953",
   "metadata": {},
   "outputs": [],
   "source": [
    "def check_even_list(num_list):\n",
    "    #Revisamos cada numero con el for\n",
    "    for number in num_list:\n",
    "        # Una cez que obtenemos el acierto en un numero par, devolvemos True\n",
    "        if number % 2 == 0:\n",
    "            return True\n",
    "        # Esto esta mal, ya que devuelve False con el primer numero par"
   ]
  },
  {
   "cell_type": "code",
   "execution_count": null,
   "id": "f79937c3",
   "metadata": {},
   "outputs": [],
   "source": []
  }
 ],
 "metadata": {
  "kernelspec": {
   "display_name": "Python 3",
   "language": "python",
   "name": "python3"
  },
  "language_info": {
   "codemirror_mode": {
    "name": "ipython",
    "version": 3
   },
   "file_extension": ".py",
   "mimetype": "text/x-python",
   "name": "python",
   "nbconvert_exporter": "python",
   "pygments_lexer": "ipython3",
   "version": "3.8.8"
  }
 },
 "nbformat": 4,
 "nbformat_minor": 5
}
