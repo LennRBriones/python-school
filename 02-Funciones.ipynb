{
 "cells": [
  {
   "cell_type": "markdown",
   "metadata": {},
   "source": [
    "# Funciones\n",
    "\n",
    "## Introducción a las Funciones\n",
    "\n",
    "Esta clase consistirá en explicar qué es una función en Python y cómo crear una. Las funciones serán uno de nuestros bloques de construcción principales cuando construimos cantidades cada vez mayores de código para resolver problemas.\n",
    "\n",
    "### ¿Qué es una Función?\n",
    "\n",
    "Formalmente, una función es una herramienta útil que agrupa un conjunto de declaraciones para que puedan ejecutarse más de una vez. También pueden permitirnos especificar parámetros que pueden servir como entradas para las funciones.\n",
    "\n",
    "En un nivel más fundamental, las funciones nos permiten no tener que escribir repetidamente el mismo código una y otra vez. Si recuerda las lecciones sobre cadenas y listas, recuerde que usamos una función len () para obtener la longitud de una cadena. Dado que verificar la longitud de una secuencia es una tarea común, querrá escribir una función que pueda hacer esto repetidamente en el comando.\n",
    "\n",
    "Las funciones serán uno de los niveles más básicos de reutilización de código en Python, y también nos permitirá comenzar a pensar en el diseño de programas (profundizaremos mucho más en las ideas de diseño cuando aprendamos sobre programación orientada a objetos)."
   ]
  },
  {
   "cell_type": "markdown",
   "metadata": {},
   "source": [
    "### ¿Por qué usar funciones?\n",
    "\n",
    "En pocas palabras, debe usar funciones cuando planee usar un bloque de código varias veces. La función le permitirá llamar al mismo bloque de código sin tener que escribirlo varias veces. Esto, a su vez, le permitirá crear scripts de Python más complejos. Sin embargo, para entender esto realmente, ¡deberíamos escribir nuestras propias funciones!"
   ]
  },
  {
   "cell_type": "markdown",
   "metadata": {},
   "source": [
    "## Temas de Funciones\n",
    "* palabra clave def\n",
    "* ejemplo simple de una función\n",
    "* llamar a una función con ()\n",
    "* aceptar parámetros\n",
    "* imprimir versus devolver\n",
    "* agregar lógica dentro de una función\n",
    "* retornos múltiples dentro de una función\n",
    "* agregar bucles dentro de una función\n",
    "* desembalaje de tuplas\n",
    "* interacción entre funciones"
   ]
  },
  {
   "cell_type": "markdown",
   "metadata": {},
   "source": [
    "### Palabra Clave def\n",
    "\n",
    "Veamos cómo construir la sintaxis de una función en Python. Tiene la siguiente forma:"
   ]
  },
  {
   "cell_type": "code",
   "execution_count": 21,
   "metadata": {},
   "outputs": [],
   "source": [
    "def nombre_de_la_función(arg1,arg2):\n",
    "    '''\n",
    "    Aquí es donde va la documentación de la función (docstring).\n",
    "    Cuando llame a help () en su función, se imprimirá.\n",
    "    '''\n",
    "    # Hacer cosas aquí\n",
    "    # Devuelve el resultado deseado"
   ]
  },
  {
   "cell_type": "markdown",
   "metadata": {},
   "source": [
    "Comenzamos con def y luego un espacio seguido del nombre de la función. Intente mantener los nombres relevantes, por ejemplo, len () es un buen nombre para una función length (). También tenga cuidado con los nombres, no querrá llamar a una función con el mismo nombre que una [función incorporada en Python](https://docs.python.org/3/library/functions.html) (como len).\n",
    "\n",
    "Luego vienen un par de paréntesis con varios argumentos separados por una coma. Estos argumentos son las entradas para su función. Podrá utilizar estas entradas en su función y hacer referencia a ellas. Después de esto, pones dos puntos.\n",
    "\n",
    "Ahora, aquí está el paso importante, debe sangrar para comenzar el código dentro de su función correctamente. Python hace uso de espacios en blanco para organizar el código. Muchos otros lenguajes de programación no hacen esto, así que téngalo en cuenta.\n",
    "\n",
    "A continuación, verá la cadena de documentos, aquí es donde escribe una descripción básica de la función. Con Jupyter y Jupyter Notebooks, podrá leer estas cadenas de documentos presionando Shift + Tab después del nombre de una función. Las cadenas de documentos no son necesarias para funciones simples, pero es una buena práctica colocarlas para que usted u otras personas puedan comprender fácilmente el código que escribe.\n",
    "\n",
    "Después de todo esto, comienza a escribir el código que desea ejecutar.\n",
    "\n",
    "La mejor forma de aprender las funciones es mediante ejemplos. Así que intentemos repasar ejemplos que se relacionen con los diversos objetos y estructuras de datos que aprendimos antes."
   ]
  },
  {
   "cell_type": "markdown",
   "metadata": {},
   "source": [
    "### Ejemplo simple de la declaración de una Función"
   ]
  },
  {
   "cell_type": "code",
   "execution_count": 1,
   "metadata": {},
   "outputs": [],
   "source": [
    "def say_hello():\n",
    "    print('hello')"
   ]
  },
  {
   "cell_type": "markdown",
   "metadata": {},
   "source": [
    "### Llamando a un fucnión con ()"
   ]
  },
  {
   "cell_type": "markdown",
   "metadata": {},
   "source": [
    "Llamar a la función:"
   ]
  },
  {
   "cell_type": "code",
   "execution_count": 2,
   "metadata": {},
   "outputs": [
    {
     "name": "stdout",
     "output_type": "stream",
     "text": [
      "hello\n"
     ]
    }
   ],
   "source": [
    "say_hello()"
   ]
  },
  {
   "cell_type": "markdown",
   "metadata": {},
   "source": [
    "Si olvida colocar los paréntesis (), simplemente mostrará el hecho de que say_hello es una función. Más adelante aprenderemos que en realidad podemos pasar funciones a otras funciones. Pero por ahora, simplemente recuerde llamar a las funciones con ()."
   ]
  },
  {
   "cell_type": "code",
   "execution_count": 24,
   "metadata": {},
   "outputs": [
    {
     "data": {
      "text/plain": [
       "<function __main__.say_hello()>"
      ]
     },
     "execution_count": 24,
     "metadata": {},
     "output_type": "execute_result"
    }
   ],
   "source": [
    "say_hello"
   ]
  },
  {
   "cell_type": "markdown",
   "metadata": {},
   "source": [
    "### Aceptando parámetros (argumentos)\n",
    "Escribamos una función que salude a las personas con su nombre."
   ]
  },
  {
   "cell_type": "code",
   "execution_count": 3,
   "metadata": {},
   "outputs": [],
   "source": [
    "def greeting(name):\n",
    "    print(f'Hello {name}')"
   ]
  },
  {
   "cell_type": "code",
   "execution_count": 4,
   "metadata": {},
   "outputs": [
    {
     "name": "stdout",
     "output_type": "stream",
     "text": [
      "Hello Jose\n"
     ]
    }
   ],
   "source": [
    "greeting('Jose')"
   ]
  },
  {
   "cell_type": "markdown",
   "metadata": {},
   "source": [
    "## Usando return\n",
    "Hasta ahora solo hemos visto el uso de print (), pero si realmente queremos guardar la variable resultante, necesitamos usar la palabra clave **return**.\n",
    "\n",
    "Veamos un ejemplo que usa una declaración <code>return</code>. <code>return</code> permite que una función *devuelva* un resultado que luego puede almacenarse como una variable o usarse de la manera que desee el usuario.\n",
    "\n",
    "### Ejemplo: Función Suma"
   ]
  },
  {
   "cell_type": "code",
   "execution_count": 5,
   "metadata": {},
   "outputs": [],
   "source": [
    "def add_num(num1,num2):\n",
    "    return num1+num2"
   ]
  },
  {
   "cell_type": "code",
   "execution_count": 6,
   "metadata": {},
   "outputs": [
    {
     "data": {
      "text/plain": [
       "9"
      ]
     },
     "execution_count": 6,
     "metadata": {},
     "output_type": "execute_result"
    }
   ],
   "source": [
    "add_num(4,5)"
   ]
  },
  {
   "cell_type": "code",
   "execution_count": 7,
   "metadata": {},
   "outputs": [],
   "source": [
    "# También se puede guardar como variable debido a la devolución.\n",
    "result = add_num(4,5)"
   ]
  },
  {
   "cell_type": "code",
   "execution_count": 8,
   "metadata": {},
   "outputs": [
    {
     "name": "stdout",
     "output_type": "stream",
     "text": [
      "9\n"
     ]
    }
   ],
   "source": [
    "print(result)"
   ]
  },
  {
   "cell_type": "markdown",
   "metadata": {},
   "source": [
    "¿Que pasa si pasamos como argumento dos cadenas (**string**)?"
   ]
  },
  {
   "cell_type": "code",
   "execution_count": 31,
   "metadata": {},
   "outputs": [
    {
     "data": {
      "text/plain": [
       "'onetwo'"
      ]
     },
     "execution_count": 31,
     "metadata": {},
     "output_type": "execute_result"
    }
   ],
   "source": [
    "add_num('one','two')"
   ]
  },
  {
   "cell_type": "markdown",
   "metadata": {},
   "source": [
    "## Una Pregunta muy común: \"¿Cuál es la diferencia entre *return* y *print*?\"\n",
    "\n",
    "**La palabra clave return le permite guardar el resultado de la salida de una función como una variable. La función print () simplemente le muestra la salida, pero no la guarda para uso futuro. Exploremos esto con más detalle.**"
   ]
  },
  {
   "cell_type": "code",
   "execution_count": 9,
   "metadata": {},
   "outputs": [],
   "source": [
    "def print_result(a,b):\n",
    "    print(a+b)"
   ]
  },
  {
   "cell_type": "code",
   "execution_count": 10,
   "metadata": {},
   "outputs": [],
   "source": [
    "def return_result(a,b):\n",
    "    return a+b"
   ]
  },
  {
   "cell_type": "code",
   "execution_count": 11,
   "metadata": {},
   "outputs": [
    {
     "name": "stdout",
     "output_type": "stream",
     "text": [
      "15\n"
     ]
    }
   ],
   "source": [
    "print_result(10,5)"
   ]
  },
  {
   "cell_type": "code",
   "execution_count": 12,
   "metadata": {},
   "outputs": [
    {
     "data": {
      "text/plain": [
       "15"
      ]
     },
     "execution_count": 12,
     "metadata": {},
     "output_type": "execute_result"
    }
   ],
   "source": [
    "# No verá ningún resultado si ejecuta esto en un script .py\n",
    "return_result(10,5)"
   ]
  },
  {
   "cell_type": "markdown",
   "metadata": {},
   "source": [
    "**Pero, ¿qué sucede si realmente queremos guardar este resultado para su uso posterior??**"
   ]
  },
  {
   "cell_type": "code",
   "execution_count": 13,
   "metadata": {},
   "outputs": [
    {
     "name": "stdout",
     "output_type": "stream",
     "text": [
      "40\n"
     ]
    }
   ],
   "source": [
    "my_result = print_result(20,20)"
   ]
  },
  {
   "cell_type": "code",
   "execution_count": 14,
   "metadata": {},
   "outputs": [],
   "source": [
    "my_result"
   ]
  },
  {
   "cell_type": "code",
   "execution_count": 15,
   "metadata": {},
   "outputs": [
    {
     "data": {
      "text/plain": [
       "NoneType"
      ]
     },
     "execution_count": 15,
     "metadata": {},
     "output_type": "execute_result"
    }
   ],
   "source": [
    "type(my_result)"
   ]
  },
  {
   "cell_type": "markdown",
   "metadata": {},
   "source": [
    "**¡Ten cuidado! ¡Observe cómo la función print_result() no le permite guardar el resultado en una variable! ¡Solo lo imprime, con print() devolviendo <code>None</code> para la asignación!**"
   ]
  },
  {
   "cell_type": "code",
   "execution_count": 16,
   "metadata": {},
   "outputs": [],
   "source": [
    "my_result = return_result(20,20)"
   ]
  },
  {
   "cell_type": "code",
   "execution_count": 17,
   "metadata": {},
   "outputs": [
    {
     "data": {
      "text/plain": [
       "40"
      ]
     },
     "execution_count": 17,
     "metadata": {},
     "output_type": "execute_result"
    }
   ],
   "source": [
    "my_result"
   ]
  },
  {
   "cell_type": "code",
   "execution_count": 18,
   "metadata": {},
   "outputs": [
    {
     "data": {
      "text/plain": [
       "80"
      ]
     },
     "execution_count": 18,
     "metadata": {},
     "output_type": "execute_result"
    }
   ],
   "source": [
    "my_result + my_result"
   ]
  },
  {
   "cell_type": "markdown",
   "metadata": {},
   "source": [
    "# Adición de lógica a las operaciones de funciones internas\n",
    "\n",
    "Hasta ahora sabemos bastante sobre la construcción de declaraciones lógicas con Python, como declaraciones if / else / elif, bucles for y while, verificar si un elemento está **en** una lista o **no esta** en una lista. Veamos ahora cómo podemos realizar estas operaciones dentro de una función."
   ]
  },
  {
   "cell_type": "markdown",
   "metadata": {},
   "source": [
    "### Comprueba si un número es par"
   ]
  },
  {
   "cell_type": "markdown",
   "metadata": {},
   "source": [
    "**Recuerda que el operador mod (%) devuelve el resto después de la división, si un número es par, entonces mod 2 (%2) debe ser == a cero.**"
   ]
  },
  {
   "cell_type": "code",
   "execution_count": 42,
   "metadata": {},
   "outputs": [
    {
     "data": {
      "text/plain": [
       "0"
      ]
     },
     "execution_count": 42,
     "metadata": {},
     "output_type": "execute_result"
    }
   ],
   "source": [
    "2 % 2"
   ]
  },
  {
   "cell_type": "code",
   "execution_count": 43,
   "metadata": {},
   "outputs": [
    {
     "data": {
      "text/plain": [
       "0"
      ]
     },
     "execution_count": 43,
     "metadata": {},
     "output_type": "execute_result"
    }
   ],
   "source": [
    "20 % 2"
   ]
  },
  {
   "cell_type": "code",
   "execution_count": 44,
   "metadata": {},
   "outputs": [
    {
     "data": {
      "text/plain": [
       "1"
      ]
     },
     "execution_count": 44,
     "metadata": {},
     "output_type": "execute_result"
    }
   ],
   "source": [
    "21 % 2"
   ]
  },
  {
   "cell_type": "code",
   "execution_count": 45,
   "metadata": {},
   "outputs": [
    {
     "data": {
      "text/plain": [
       "True"
      ]
     },
     "execution_count": 45,
     "metadata": {},
     "output_type": "execute_result"
    }
   ],
   "source": [
    "20 % 2 == 0"
   ]
  },
  {
   "cell_type": "code",
   "execution_count": 46,
   "metadata": {},
   "outputs": [
    {
     "data": {
      "text/plain": [
       "False"
      ]
     },
     "execution_count": 46,
     "metadata": {},
     "output_type": "execute_result"
    }
   ],
   "source": [
    "21 % 2 == 0"
   ]
  },
  {
   "cell_type": "markdown",
   "metadata": {},
   "source": [
    "** Usemos esto para construir una función. Observa cómo simplemente devolvemos el valor booleano.**"
   ]
  },
  {
   "cell_type": "code",
   "execution_count": 47,
   "metadata": {},
   "outputs": [],
   "source": [
    "def even_check(number):\n",
    "    return number % 2 == 0"
   ]
  },
  {
   "cell_type": "code",
   "execution_count": 48,
   "metadata": {},
   "outputs": [
    {
     "data": {
      "text/plain": [
       "True"
      ]
     },
     "execution_count": 48,
     "metadata": {},
     "output_type": "execute_result"
    }
   ],
   "source": [
    "even_check(20)"
   ]
  },
  {
   "cell_type": "code",
   "execution_count": 49,
   "metadata": {},
   "outputs": [
    {
     "data": {
      "text/plain": [
       "False"
      ]
     },
     "execution_count": 49,
     "metadata": {},
     "output_type": "execute_result"
    }
   ],
   "source": [
    "even_check(21)"
   ]
  },
  {
   "cell_type": "markdown",
   "metadata": {},
   "source": [
    "### Comprobar si algún número en una lista es par\n",
    "\n",
    "Devolvemos un valor booleano que indique si **cualquier** número en una lista es par. Observe aquí cómo **return** sale del bucle y sale de la función"
   ]
  },
  {
   "cell_type": "code",
   "execution_count": 1,
   "metadata": {},
   "outputs": [],
   "source": [
    "def check_even_list(num_list):\n",
    "    # Revisa cada número\n",
    "    for number in num_list:\n",
    "        # Una vez que obtenemos un \"acierto\" en un número par, devolvemos True\n",
    "        if number % 2 == 0:\n",
    "            return True\n",
    "        # De lo contrario no hacemos nada\n",
    "        else:\n",
    "            pass"
   ]
  },
  {
   "cell_type": "markdown",
   "metadata": {},
   "source": [
    "**¿Es suficiente? ¡NO! ¡No devolveremos nada si se recorre la lista sin encontrar un número par!**"
   ]
  },
  {
   "cell_type": "code",
   "execution_count": 20,
   "metadata": {},
   "outputs": [
    {
     "data": {
      "text/plain": [
       "True"
      ]
     },
     "execution_count": 20,
     "metadata": {},
     "output_type": "execute_result"
    }
   ],
   "source": [
    "check_even_list([1,2,3])"
   ]
  },
  {
   "cell_type": "code",
   "execution_count": 21,
   "metadata": {},
   "outputs": [],
   "source": [
    "check_even_list([1,1,1])"
   ]
  },
  {
   "cell_type": "markdown",
   "metadata": {},
   "source": [
    "** ¡¡ERROR MUY COMÚN!! VEAMOS UN ERROR DE LÓGICA COMÚN, ¡¡TENGA EN CUENTA QUE ESTO ES INCORRECTO!!**"
   ]
  },
  {
   "cell_type": "code",
   "execution_count": 53,
   "metadata": {},
   "outputs": [],
   "source": [
    "def check_even_list(num_list):\n",
    "    # Revisa cada número\n",
    "    for number in num_list:\n",
    "        # Una vez que obtenemos un \"acierto\" en un número par, devolvemos True\n",
    "        if number % 2 == 0:\n",
    "            return True\n",
    "        # ¡Esto está mal! ¡Esto devuelve False en el primer número impar!\n",
    "        # ¡No termina comprobando los otros números de la lista!\n",
    "        else:\n",
    "            return False"
   ]
  },
  {
   "cell_type": "code",
   "execution_count": 54,
   "metadata": {},
   "outputs": [
    {
     "data": {
      "text/plain": [
       "False"
      ]
     },
     "execution_count": 54,
     "metadata": {},
     "output_type": "execute_result"
    }
   ],
   "source": [
    "# ¡UH OH! Devuelve Falso después de encontrar el primer 1\n",
    "check_even_list([1,2,3])"
   ]
  },
  {
   "cell_type": "markdown",
   "metadata": {},
   "source": [
    "**Enfoque correcto: necesitamos iniciar un retorno falso DESPUÉS de recorrer todo el bucle**"
   ]
  },
  {
   "cell_type": "code",
   "execution_count": 22,
   "metadata": {},
   "outputs": [],
   "source": [
    "def check_even_list(num_list):\n",
    "    # Revisa cada número\n",
    "    for number in num_list:\n",
    "        # Una vez que obtenemos un \"acierto\" en un número par, devolvemos True\n",
    "        if number % 2 == 0:\n",
    "            return True\n",
    "        # No hacenos nada si no es un número par\n",
    "        else:\n",
    "            pass\n",
    "    # ¡Note la indentacción! Esto asegura que se recorra el ciclo completo\n",
    "    return False"
   ]
  },
  {
   "cell_type": "code",
   "execution_count": 23,
   "metadata": {},
   "outputs": [
    {
     "data": {
      "text/plain": [
       "True"
      ]
     },
     "execution_count": 23,
     "metadata": {},
     "output_type": "execute_result"
    }
   ],
   "source": [
    "check_even_list([1,2,3])"
   ]
  },
  {
   "cell_type": "code",
   "execution_count": 24,
   "metadata": {},
   "outputs": [
    {
     "data": {
      "text/plain": [
       "False"
      ]
     },
     "execution_count": 24,
     "metadata": {},
     "output_type": "execute_result"
    }
   ],
   "source": [
    "check_even_list([1,3,5])"
   ]
  },
  {
   "cell_type": "markdown",
   "metadata": {},
   "source": [
    "### Regresa todos los números pares en una lista\n",
    "\n",
    "Agreguemos más complejidad, ahora devolveremos todos los números pares en una lista; de lo contrario, devolveremos una lista vacía."
   ]
  },
  {
   "cell_type": "code",
   "execution_count": 25,
   "metadata": {},
   "outputs": [],
   "source": [
    "def check_even_list(num_list):\n",
    "    \n",
    "    even_numbers = []\n",
    "    \n",
    "    # Revisa cada número\n",
    "    for number in num_list:\n",
    "        # Una vez que obtenemos un \"acierto\" en un número par, agregamos el número par a una lista\n",
    "        if number % 2 == 0:\n",
    "            even_numbers.append(number)\n",
    "        # No hacenos nada si no es un número par\n",
    "        else:\n",
    "            pass\n",
    "    # ¡Note la indentacción! Esto asegura que se recorra el ciclo completo\n",
    "    return even_numbers"
   ]
  },
  {
   "cell_type": "code",
   "execution_count": 26,
   "metadata": {},
   "outputs": [
    {
     "data": {
      "text/plain": [
       "[2, 4, 6]"
      ]
     },
     "execution_count": 26,
     "metadata": {},
     "output_type": "execute_result"
    }
   ],
   "source": [
    "check_even_list([1,2,3,4,5,6])"
   ]
  },
  {
   "cell_type": "code",
   "execution_count": 27,
   "metadata": {},
   "outputs": [
    {
     "data": {
      "text/plain": [
       "[]"
      ]
     },
     "execution_count": 27,
     "metadata": {},
     "output_type": "execute_result"
    }
   ],
   "source": [
    "check_even_list([1,3,5])"
   ]
  },
  {
   "cell_type": "markdown",
   "metadata": {},
   "source": [
    "## Devolución de tuplas"
   ]
  },
  {
   "cell_type": "markdown",
   "metadata": {},
   "source": [
    "**Recuerde que podemos recorrer una lista de tuplas y \"descomprimir\" los valores dentro de ellas.**"
   ]
  },
  {
   "cell_type": "code",
   "execution_count": 61,
   "metadata": {},
   "outputs": [],
   "source": [
    "stock_prices = [('AAPL',200),('GOOG',300),('MSFT',400)]"
   ]
  },
  {
   "cell_type": "code",
   "execution_count": 62,
   "metadata": {},
   "outputs": [
    {
     "name": "stdout",
     "output_type": "stream",
     "text": [
      "('AAPL', 200)\n",
      "('GOOG', 300)\n",
      "('MSFT', 400)\n"
     ]
    }
   ],
   "source": [
    "for item in stock_prices:\n",
    "    print(item)"
   ]
  },
  {
   "cell_type": "code",
   "execution_count": 63,
   "metadata": {},
   "outputs": [
    {
     "name": "stdout",
     "output_type": "stream",
     "text": [
      "AAPL\n",
      "GOOG\n",
      "MSFT\n"
     ]
    }
   ],
   "source": [
    "for stock,price in stock_prices:\n",
    "    print(stock)"
   ]
  },
  {
   "cell_type": "code",
   "execution_count": 64,
   "metadata": {},
   "outputs": [
    {
     "name": "stdout",
     "output_type": "stream",
     "text": [
      "200\n",
      "300\n",
      "400\n"
     ]
    }
   ],
   "source": [
    "for stock,price in stock_prices:\n",
    "    print(price)"
   ]
  },
  {
   "cell_type": "markdown",
   "metadata": {},
   "source": [
    "**De manera similar, las funciones a menudo devuelven tuplas, para devolver fácilmente múltiples resultados para su uso posterior.**"
   ]
  },
  {
   "cell_type": "markdown",
   "metadata": {},
   "source": [
    "Imaginemos la siguiente lista:"
   ]
  },
  {
   "cell_type": "code",
   "execution_count": 29,
   "metadata": {},
   "outputs": [],
   "source": [
    "work_hours = [('Abby',100),('Billy',400),('Cassie',800)]"
   ]
  },
  {
   "cell_type": "markdown",
   "metadata": {},
   "source": [
    "La función de empleado del mes devolverá tanto el nombre como la cantidad de horas trabajadas para el mejor desempeño (juzgado por la cantidad de horas trabajadas)."
   ]
  },
  {
   "cell_type": "code",
   "execution_count": 28,
   "metadata": {},
   "outputs": [],
   "source": [
    "def employee_check(work_hours):\n",
    "    \n",
    "    # Establezca un valor máximo para superar inicialmente, como cero horas\n",
    "    current_max = 0\n",
    "    # Establecer un valor vacío antes del ciclo\n",
    "    employee_of_month = ''\n",
    "    \n",
    "    for employee,hours in work_hours:\n",
    "        if hours > current_max:\n",
    "            current_max = hours\n",
    "            employee_of_month = employee\n",
    "        else:\n",
    "            pass\n",
    "    \n",
    "    # Note la indentación aquí\n",
    "    return (employee_of_month,current_max)"
   ]
  },
  {
   "cell_type": "code",
   "execution_count": 30,
   "metadata": {},
   "outputs": [
    {
     "data": {
      "text/plain": [
       "('Cassie', 800)"
      ]
     },
     "execution_count": 30,
     "metadata": {},
     "output_type": "execute_result"
    }
   ],
   "source": [
    "employee_check(work_hours)"
   ]
  },
  {
   "cell_type": "markdown",
   "metadata": {},
   "source": [
    "## Interacción entre funciones\n",
    "\n",
    "Las funciones a menudo usan resultados de otras funciones, veamos un ejemplo simple a través de un juego de adivinanzas. Habrá 3 posiciones en la lista, una de las cuales es una 'O', una función barajará la lista, otra tomará la suposición de un jugador y finalmente otra verificará si es correcta. Esto se basa en el clásico juego de feria de adivinar en qué taza se encuentra una bola roja."
   ]
  },
  {
   "cell_type": "markdown",
   "metadata": {},
   "source": [
    "**Cómo mezclar una lista en Python**"
   ]
  },
  {
   "cell_type": "code",
   "execution_count": 68,
   "metadata": {},
   "outputs": [],
   "source": [
    "example = [1,2,3,4,5]"
   ]
  },
  {
   "cell_type": "code",
   "execution_count": 69,
   "metadata": {},
   "outputs": [],
   "source": [
    "from random import shuffle"
   ]
  },
  {
   "cell_type": "code",
   "execution_count": 70,
   "metadata": {},
   "outputs": [],
   "source": [
    "shuffle(example)"
   ]
  },
  {
   "cell_type": "code",
   "execution_count": 71,
   "metadata": {},
   "outputs": [
    {
     "data": {
      "text/plain": [
       "[1, 4, 5, 3, 2]"
      ]
     },
     "execution_count": 71,
     "metadata": {},
     "output_type": "execute_result"
    }
   ],
   "source": [
    "example"
   ]
  },
  {
   "cell_type": "markdown",
   "metadata": {},
   "source": [
    "**OK, creemos nuestro juego simple**"
   ]
  },
  {
   "cell_type": "code",
   "execution_count": 72,
   "metadata": {},
   "outputs": [],
   "source": [
    "mylist = [' ','O',' ']"
   ]
  },
  {
   "cell_type": "code",
   "execution_count": 73,
   "metadata": {},
   "outputs": [],
   "source": [
    "def shuffle_list(mylist):\n",
    "    # Tome la lista y devuelva la versión aleatoria\n",
    "    shuffle(mylist)\n",
    "    \n",
    "    return mylist"
   ]
  },
  {
   "cell_type": "code",
   "execution_count": 74,
   "metadata": {},
   "outputs": [
    {
     "data": {
      "text/plain": [
       "[' ', 'O', ' ']"
      ]
     },
     "execution_count": 74,
     "metadata": {},
     "output_type": "execute_result"
    }
   ],
   "source": [
    "mylist "
   ]
  },
  {
   "cell_type": "code",
   "execution_count": 75,
   "metadata": {},
   "outputs": [
    {
     "data": {
      "text/plain": [
       "[' ', ' ', 'O']"
      ]
     },
     "execution_count": 75,
     "metadata": {},
     "output_type": "execute_result"
    }
   ],
   "source": [
    "shuffle_list(mylist)"
   ]
  },
  {
   "cell_type": "code",
   "execution_count": 76,
   "metadata": {},
   "outputs": [],
   "source": [
    "def player_guess():\n",
    "    \n",
    "    guess = ''\n",
    "    \n",
    "    while guess not in ['0','1','2']:\n",
    "        \n",
    "        guess = input(\"Pick a number: 0, 1, or 2:  \")\n",
    "    \n",
    "    return int(guess)    "
   ]
  },
  {
   "cell_type": "code",
   "execution_count": 77,
   "metadata": {},
   "outputs": [
    {
     "name": "stdout",
     "output_type": "stream",
     "text": [
      "Pick a number: 0, 1, or 2:  2\n"
     ]
    },
    {
     "data": {
      "text/plain": [
       "2"
      ]
     },
     "execution_count": 77,
     "metadata": {},
     "output_type": "execute_result"
    }
   ],
   "source": [
    "player_guess()"
   ]
  },
  {
   "cell_type": "markdown",
   "metadata": {},
   "source": [
    "Ahora comprobaremos la suposición del usuario. Observe que solo imprimimos aquí, ya que no tenemos necesidad de guardar la suposición de un usuario o la lista barajada."
   ]
  },
  {
   "cell_type": "code",
   "execution_count": 78,
   "metadata": {},
   "outputs": [],
   "source": [
    "def check_guess(mylist,guess):\n",
    "    if mylist[guess] == 'O':\n",
    "        print('Correct Guess!')\n",
    "    else:\n",
    "        print('Wrong! Better luck next time')\n",
    "        print(mylist)"
   ]
  },
  {
   "cell_type": "markdown",
   "metadata": {},
   "source": [
    "Ahora creamos una pequeña lógica de configuración para ejecutar todas las funciones. ¡Observe cómo interactúan entre sí!"
   ]
  },
  {
   "cell_type": "code",
   "execution_count": 79,
   "metadata": {},
   "outputs": [
    {
     "name": "stdout",
     "output_type": "stream",
     "text": [
      "Pick a number: 0, 1, or 2:  2\n",
      "Wrong! Better luck next time\n",
      "['O', ' ', ' ']\n"
     ]
    }
   ],
   "source": [
    "# Lista Inicial\n",
    "mylist = [' ','O',' ']\n",
    "\n",
    "# Mezclamos\n",
    "mixedup_list = shuffle_list(mylist)\n",
    "\n",
    "# Obtener la suposición del usuario\n",
    "guess = player_guess()\n",
    "\n",
    "# Verificar la suposición del usuario\n",
    "# ------------------------\n",
    "# Observar cómo esta función toma la entrada\n",
    "# basada en la salida de otras funciones!\n",
    "check_guess(mixedup_list,guess)"
   ]
  },
  {
   "cell_type": "markdown",
   "metadata": {},
   "source": [
    "¡Estupendo! ¡Ahora deberías tener un conocimiento básico de cómo crear tus propias funciones para evitar escribir código repetidamente!"
   ]
  }
 ],
 "metadata": {
  "kernelspec": {
   "display_name": "Python 3",
   "language": "python",
   "name": "python3"
  },
  "language_info": {
   "codemirror_mode": {
    "name": "ipython",
    "version": 3
   },
   "file_extension": ".py",
   "mimetype": "text/x-python",
   "name": "python",
   "nbconvert_exporter": "python",
   "pygments_lexer": "ipython3",
   "version": "3.8.8"
  }
 },
 "nbformat": 4,
 "nbformat_minor": 1
}
