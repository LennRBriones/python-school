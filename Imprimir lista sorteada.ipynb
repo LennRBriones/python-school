{
 "cells": [
  {
   "cell_type": "code",
   "execution_count": null,
   "id": "3d66c7cf",
   "metadata": {},
   "outputs": [],
   "source": [
    "amigos = {'Juan': '90123289', 'Pedro': '10286787', 'Maria': '55782365'}\n",
    "amigos['Liliana'] = '8967451200'\n",
    "familia = {'Mama': '3827016538', 'Papa': '2076183651', 'Hermano': '7619883260'}\n",
    "\n",
    "amigos.update(familia)\n",
    "\n",
    "en_orden = sorted(amigos.keys())\n",
    "for nombre in en_orden:\n",
    "  print('El telefono de ' + nombre + ' es ' + amigos[nombre])\n",
    "\n",
    "print('='*10)\n",
    "\n",
    "orden_inverso = sorted(amigos.keys(), reverse=True)\n",
    "for nombre in orden_inverso:\n",
    "  print('El telefono de ' + nombre + ' es ' + amigos[nombre])\n",
    "\n",
    "print('='*10)\n",
    "\n",
    "orden_numeros = sorted(amigos.keys(), key=amigos.get)\n",
    "for nombre in orden_inverso:\n",
    "  print('El telefono de ' + nombre + ' es ' + amigos[nombre])"
   ]
  },
  {
   "cell_type": "code",
   "execution_count": null,
   "id": "3153b2d0",
   "metadata": {},
   "outputs": [],
   "source": []
  },
  {
   "cell_type": "code",
   "execution_count": null,
   "id": "b55c11a6",
   "metadata": {},
   "outputs": [],
   "source": []
  }
 ],
 "metadata": {
  "kernelspec": {
   "display_name": "Python 3",
   "language": "python",
   "name": "python3"
  },
  "language_info": {
   "codemirror_mode": {
    "name": "ipython",
    "version": 3
   },
   "file_extension": ".py",
   "mimetype": "text/x-python",
   "name": "python",
   "nbconvert_exporter": "python",
   "pygments_lexer": "ipython3",
   "version": "3.8.8"
  }
 },
 "nbformat": 4,
 "nbformat_minor": 5
}
